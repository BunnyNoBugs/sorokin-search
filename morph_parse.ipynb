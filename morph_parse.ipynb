{
 "cells": [
  {
   "cell_type": "code",
   "execution_count": 18,
   "metadata": {},
   "outputs": [],
   "source": [
    "import json\n",
    "\n",
    "from pymystem3 import Mystem\n",
    "m = Mystem()\n",
    "\n",
    "# Импорт для консольного майстема\n",
    "# import os\n",
    "# mystem_path = 'C:/Users/User/Downloads/mystem.exe'"
   ]
  },
  {
   "cell_type": "code",
   "execution_count": 34,
   "metadata": {},
   "outputs": [],
   "source": [
    "def process_entry(entry):\n",
    "    title = entry[0]\n",
    "    \n",
    "    text = entry[1].replace('\\xa0', ' ')\n",
    "#     Здесь заготовки для консольного майстема\n",
    "#     with open('input_temp.txt', 'w', encoding=utf-8) as f:\n",
    "#         f.write(text)\n",
    "#     os.system(f'{mystem_path} input_temp.txt output_temp.txt')\n",
    "              \n",
    "    ana = m.analyze(text)\n",
    "    \n",
    "    parsed_text = []\n",
    "    \n",
    "    for word in ana:\n",
    "        parsed_word = {}\n",
    "        \n",
    "        parsed_word['token'] = word['text']\n",
    "        \n",
    "        if 'analysis' in word:\n",
    "            gr = word['analysis'][0]['gr']\n",
    "            pos = gr.split('=')[0].split(',')[0]\n",
    "            parsed_word['POS'] = pos\n",
    "            parsed_word['lemma'] = word['analysis'][0]['lex']\n",
    "        \n",
    "        parsed_text.append(parsed_word)\n",
    "        \n",
    "    processed_entry = title, parsed_text\n",
    "    \n",
    "    return processed_entry"
   ]
  },
  {
   "cell_type": "code",
   "execution_count": 25,
   "metadata": {},
   "outputs": [],
   "source": [
    "with open('data.json', encoding='utf-8') as f:\n",
    "    data = json.loads(f.read())"
   ]
  },
  {
   "cell_type": "code",
   "execution_count": 36,
   "metadata": {},
   "outputs": [],
   "source": [
    "processed_data = []\n",
    "\n",
    "for entry in data:\n",
    "    processed_entry = process_entry(entry)\n",
    "    processed_data.append(processed_entry)"
   ]
  },
  {
   "cell_type": "code",
   "execution_count": 37,
   "metadata": {},
   "outputs": [],
   "source": [
    "with open('processed_data.json', 'w', encoding='utf-8') as f:\n",
    "    json.dump(processed_data, f, ensure_ascii=False, indent=4)"
   ]
  },
  {
   "cell_type": "code",
   "execution_count": 17,
   "metadata": {},
   "outputs": [
    {
     "name": "stdout",
     "output_type": "stream",
     "text": [
      "[{'token': 'Мама', 'POS': 'S', 'lemma': 'мама'}, {'token': ' '}, {'token': 'мыла', 'POS': 'V', 'lemma': 'мыть'}, {'token': ' '}, {'token': 'раму', 'POS': 'S', 'lemma': 'рама'}, {'token': '.\\xa0'}, {'token': 'Мама', 'POS': 'S', 'lemma': 'мама'}, {'token': ' '}, {'token': 'мыла', 'POS': 'S', 'lemma': 'мыло'}, {'token': ' '}, {'token': 'Петю', 'POS': 'S', 'lemma': 'петя'}, {'token': '\\n'}]\n"
     ]
    }
   ],
   "source": [
    "# process_text('Мама мыла раму.\\xa0Мама мыла Петю')"
   ]
  }
 ],
 "metadata": {
  "kernelspec": {
   "display_name": "Python 3",
   "language": "python",
   "name": "python3"
  },
  "language_info": {
   "codemirror_mode": {
    "name": "ipython",
    "version": 3
   },
   "file_extension": ".py",
   "mimetype": "text/x-python",
   "name": "python",
   "nbconvert_exporter": "python",
   "pygments_lexer": "ipython3",
   "version": "3.7.4"
  }
 },
 "nbformat": 4,
 "nbformat_minor": 2
}
